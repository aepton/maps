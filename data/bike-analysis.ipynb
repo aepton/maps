{
 "cells": [
  {
   "cell_type": "code",
   "execution_count": 8,
   "id": "eeb82d2e-921d-43d1-ba6c-e49872fe70ef",
   "metadata": {},
   "outputs": [],
   "source": [
    "import json\n",
    "\n",
    "from collections import Counter"
   ]
  },
  {
   "cell_type": "code",
   "execution_count": 9,
   "id": "06027e78-53f6-4021-8e34-f06736e6f3c3",
   "metadata": {},
   "outputs": [],
   "source": [
    "with open('../public/static/bike_routes.geojson') as fh:\n",
    "    data = json.loads(fh.read())"
   ]
  },
  {
   "cell_type": "code",
   "execution_count": 19,
   "id": "93e77b0f-15d1-4984-87cb-79710fb331d7",
   "metadata": {},
   "outputs": [],
   "source": [
    "categories = Counter()\n",
    "lengths = Counter()\n",
    "\n",
    "for feature in data['features']:\n",
    "    categories[feature['properties']['bike_network_category']] += 1\n",
    "    if feature['geometry']:\n",
    "        lengths[len(feature.get('geometry', {}).get('coordinates'))] += 1"
   ]
  },
  {
   "cell_type": "code",
   "execution_count": 12,
   "id": "6120a69b-7409-4f10-8eb2-a6c37eccbd3f",
   "metadata": {},
   "outputs": [
    {
     "data": {
      "text/plain": [
       "Counter({'Proposed Bike+ - Non-Arterial': 3076,\n",
       "         'Existing Bike+ - Non-Arterial': 804,\n",
       "         'Non-Bike+ Planned': 250,\n",
       "         'Proposed Multi-Use Trail': 175,\n",
       "         'Existing Bike+ - Arterial': 525,\n",
       "         'Proposed Bike+ - Arterial': 1503,\n",
       "         'Proposed Bike+ - Upgrade, Arterial': 1464,\n",
       "         'Existing Multi-Use Trail': 337,\n",
       "         '': 136,\n",
       "         'Non-Bike+': 197})"
      ]
     },
     "execution_count": 12,
     "metadata": {},
     "output_type": "execute_result"
    }
   ],
   "source": [
    "categories"
   ]
  },
  {
   "cell_type": "code",
   "execution_count": 21,
   "id": "f273db79-3bf5-4bc0-9b55-930f0c48860d",
   "metadata": {},
   "outputs": [
    {
     "name": "stdout",
     "output_type": "stream",
     "text": [
      "Collecting pyhigh\n",
      "  Downloading https://files.pythonhosted.org/packages/db/8b/f8101acb032d7a9c1bd5023678831ff04edaf2d42ad78d0deca1b89ed805/pyhigh-0.0.6.tar.gz\n",
      "Collecting numpy (from pyhigh)\n",
      "\u001b[?25l  Downloading https://files.pythonhosted.org/packages/11/10/943cfb579f1a02909ff96464c69893b1d25be3731b5d3652c2e0cf1281ea/numpy-1.24.4-cp38-cp38-macosx_10_9_x86_64.whl (19.8MB)\n",
      "\u001b[K     |████████████████████████████████| 19.8MB 16.2MB/s eta 0:00:01\n",
      "\u001b[?25hRequirement already satisfied: requests in /Users/abrahamepton/venvs/maps/lib/python3.8/site-packages (from pyhigh) (2.32.3)\n",
      "Requirement already satisfied: charset-normalizer<4,>=2 in /Users/abrahamepton/venvs/maps/lib/python3.8/site-packages (from requests->pyhigh) (3.4.0)\n",
      "Requirement already satisfied: certifi>=2017.4.17 in /Users/abrahamepton/venvs/maps/lib/python3.8/site-packages (from requests->pyhigh) (2024.8.30)\n",
      "Requirement already satisfied: idna<4,>=2.5 in /Users/abrahamepton/venvs/maps/lib/python3.8/site-packages (from requests->pyhigh) (3.10)\n",
      "Requirement already satisfied: urllib3<3,>=1.21.1 in /Users/abrahamepton/venvs/maps/lib/python3.8/site-packages (from requests->pyhigh) (2.2.3)\n",
      "Installing collected packages: numpy, pyhigh\n",
      "  Running setup.py install for pyhigh ... \u001b[?25ldone\n",
      "\u001b[?25hSuccessfully installed numpy-1.24.4 pyhigh-0.0.6\n",
      "\u001b[33mWARNING: You are using pip version 19.2.3, however version 24.3.1 is available.\n",
      "You should consider upgrading via the 'pip install --upgrade pip' command.\u001b[0m\n"
     ]
    }
   ],
   "source": [
    "!pip install pyhigh"
   ]
  },
  {
   "cell_type": "code",
   "execution_count": 22,
   "id": "9b059c87-011f-4d46-af06-8b22d37e95e8",
   "metadata": {},
   "outputs": [
    {
     "data": {
      "text/plain": [
       "{'type': 'Feature',\n",
       " 'id': 1,\n",
       " 'geometry': {'type': 'LineString',\n",
       "  'coordinates': [[-122.308954277912, 47.604327437898],\n",
       "   [-122.307649047488, 47.6043216339769]]},\n",
       " 'properties': {'OBJECTID': 1,\n",
       "  'id': 23677,\n",
       "  'artclass_desc': 'Not Designated',\n",
       "  'stname_ord': 'E ALDER ST',\n",
       "  'bike_network_category': 'Proposed Bike+ - Non-Arterial'}}"
      ]
     },
     "execution_count": 22,
     "metadata": {},
     "output_type": "execute_result"
    }
   ],
   "source": [
    "data['features'][0]"
   ]
  },
  {
   "cell_type": "code",
   "execution_count": 23,
   "id": "c48949be-6a85-4329-bc79-7a4fb81782b8",
   "metadata": {},
   "outputs": [
    {
     "name": "stderr",
     "output_type": "stream",
     "text": [
      "/Users/abrahamepton/venvs/maps/lib/python3.8/site-packages/urllib3/__init__.py:35: NotOpenSSLWarning: urllib3 v2 only supports OpenSSL 1.1.1+, currently the 'ssl' module is compiled with 'LibreSSL 2.8.3'. See: https://github.com/urllib3/urllib3/issues/3020\n",
      "  warnings.warn(\n"
     ]
    }
   ],
   "source": [
    "from pyhigh import get_elevation"
   ]
  },
  {
   "cell_type": "code",
   "execution_count": 29,
   "id": "de8162b1-13e5-4ce9-9c7a-ba880128d741",
   "metadata": {},
   "outputs": [
    {
     "data": {
      "text/plain": [
       "314.96064"
      ]
     },
     "execution_count": 29,
     "metadata": {},
     "output_type": "execute_result"
    }
   ],
   "source": [
    "get_elevation(lat=47.604327437898, lon=-122.308954277912) * 3.28084"
   ]
  },
  {
   "cell_type": "code",
   "execution_count": 28,
   "id": "2e03e4dd-0746-4513-8570-b9a37cc4b5af",
   "metadata": {},
   "outputs": [
    {
     "data": {
      "text/plain": [
       "321.52232"
      ]
     },
     "execution_count": 28,
     "metadata": {},
     "output_type": "execute_result"
    }
   ],
   "source": [
    "get_elevation(lat=47.6043216339769, lon=-122.307649047488) * 3.28084"
   ]
  },
  {
   "cell_type": "code",
   "execution_count": 27,
   "id": "5e3483ef-2c45-4730-9b13-0e64f62c8457",
   "metadata": {},
   "outputs": [
    {
     "data": {
      "text/plain": [
       "144.35696"
      ]
     },
     "execution_count": 27,
     "metadata": {},
     "output_type": "execute_result"
    }
   ],
   "source": [
    "get_elevation(lat=47.5541164, lon=-122.2896943) * 3.28084"
   ]
  },
  {
   "cell_type": "code",
   "execution_count": null,
   "id": "0c861c53-da14-4ebb-bef4-d91d40e32dfe",
   "metadata": {},
   "outputs": [],
   "source": []
  }
 ],
 "metadata": {
  "kernelspec": {
   "display_name": "Python 3 (ipykernel)",
   "language": "python",
   "name": "python3"
  },
  "language_info": {
   "codemirror_mode": {
    "name": "ipython",
    "version": 3
   },
   "file_extension": ".py",
   "mimetype": "text/x-python",
   "name": "python",
   "nbconvert_exporter": "python",
   "pygments_lexer": "ipython3",
   "version": "3.8.2"
  }
 },
 "nbformat": 4,
 "nbformat_minor": 5
}
