{
 "cells": [
  {
   "cell_type": "code",
   "execution_count": 5,
   "id": "eeb82d2e-921d-43d1-ba6c-e49872fe70ef",
   "metadata": {},
   "outputs": [],
   "source": [
    "import json\n",
    "\n",
    "from collections import Counter"
   ]
  },
  {
   "cell_type": "code",
   "execution_count": 2,
   "id": "06027e78-53f6-4021-8e34-f06736e6f3c3",
   "metadata": {},
   "outputs": [],
   "source": [
    "with open('../public/static/bike_routes.geojson') as fh:\n",
    "    data = json.loads(fh.read())"
   ]
  },
  {
   "cell_type": "code",
   "execution_count": 86,
   "id": "3f17c9f5-cbc1-4fc7-9d5f-6ec66896aecf",
   "metadata": {},
   "outputs": [],
   "source": [
    "with open('../public/static/bike_routes.geojson', 'w+') as fh:\n",
    "    fh.write(json.dumps(data))"
   ]
  },
  {
   "cell_type": "code",
   "execution_count": 3,
   "id": "93e77b0f-15d1-4984-87cb-79710fb331d7",
   "metadata": {},
   "outputs": [],
   "source": [
    "categories = Counter()\n",
    "lengths = Counter()\n",
    "\n",
    "for feature in data['features']:\n",
    "    categories[feature['properties']['bike_network_category']] += 1\n",
    "    if feature['geometry']:\n",
    "        lengths[len(feature.get('geometry', {}).get('coordinates'))] += 1"
   ]
  },
  {
   "cell_type": "code",
   "execution_count": 4,
   "id": "6120a69b-7409-4f10-8eb2-a6c37eccbd3f",
   "metadata": {},
   "outputs": [
    {
     "data": {
      "text/plain": [
       "Counter({'Proposed Bike+ - Non-Arterial': 3076,\n",
       "         'Proposed Bike+ - Arterial': 1503,\n",
       "         'Proposed Bike+ - Upgrade, Arterial': 1464,\n",
       "         'Existing Bike+ - Non-Arterial': 804,\n",
       "         'Existing Bike+ - Arterial': 525,\n",
       "         'Existing Multi-Use Trail': 337,\n",
       "         'Non-Bike+ Planned': 250,\n",
       "         'Non-Bike+': 197,\n",
       "         'Proposed Multi-Use Trail': 175,\n",
       "         '': 136})"
      ]
     },
     "execution_count": 4,
     "metadata": {},
     "output_type": "execute_result"
    }
   ],
   "source": [
    "categories"
   ]
  },
  {
   "cell_type": "code",
   "execution_count": 21,
   "id": "f273db79-3bf5-4bc0-9b55-930f0c48860d",
   "metadata": {},
   "outputs": [
    {
     "name": "stdout",
     "output_type": "stream",
     "text": [
      "Collecting pyhigh\n",
      "  Downloading https://files.pythonhosted.org/packages/db/8b/f8101acb032d7a9c1bd5023678831ff04edaf2d42ad78d0deca1b89ed805/pyhigh-0.0.6.tar.gz\n",
      "Collecting numpy (from pyhigh)\n",
      "\u001b[?25l  Downloading https://files.pythonhosted.org/packages/11/10/943cfb579f1a02909ff96464c69893b1d25be3731b5d3652c2e0cf1281ea/numpy-1.24.4-cp38-cp38-macosx_10_9_x86_64.whl (19.8MB)\n",
      "\u001b[K     |████████████████████████████████| 19.8MB 16.2MB/s eta 0:00:01\n",
      "\u001b[?25hRequirement already satisfied: requests in /Users/abrahamepton/venvs/maps/lib/python3.8/site-packages (from pyhigh) (2.32.3)\n",
      "Requirement already satisfied: charset-normalizer<4,>=2 in /Users/abrahamepton/venvs/maps/lib/python3.8/site-packages (from requests->pyhigh) (3.4.0)\n",
      "Requirement already satisfied: certifi>=2017.4.17 in /Users/abrahamepton/venvs/maps/lib/python3.8/site-packages (from requests->pyhigh) (2024.8.30)\n",
      "Requirement already satisfied: idna<4,>=2.5 in /Users/abrahamepton/venvs/maps/lib/python3.8/site-packages (from requests->pyhigh) (3.10)\n",
      "Requirement already satisfied: urllib3<3,>=1.21.1 in /Users/abrahamepton/venvs/maps/lib/python3.8/site-packages (from requests->pyhigh) (2.2.3)\n",
      "Installing collected packages: numpy, pyhigh\n",
      "  Running setup.py install for pyhigh ... \u001b[?25ldone\n",
      "\u001b[?25hSuccessfully installed numpy-1.24.4 pyhigh-0.0.6\n",
      "\u001b[33mWARNING: You are using pip version 19.2.3, however version 24.3.1 is available.\n",
      "You should consider upgrading via the 'pip install --upgrade pip' command.\u001b[0m\n"
     ]
    }
   ],
   "source": [
    "!pip install pyhigh"
   ]
  },
  {
   "cell_type": "code",
   "execution_count": 22,
   "id": "9b059c87-011f-4d46-af06-8b22d37e95e8",
   "metadata": {},
   "outputs": [
    {
     "data": {
      "text/plain": [
       "{'type': 'Feature',\n",
       " 'id': 1,\n",
       " 'geometry': {'type': 'LineString',\n",
       "  'coordinates': [[-122.308954277912, 47.604327437898],\n",
       "   [-122.307649047488, 47.6043216339769]]},\n",
       " 'properties': {'OBJECTID': 1,\n",
       "  'id': 23677,\n",
       "  'artclass_desc': 'Not Designated',\n",
       "  'stname_ord': 'E ALDER ST',\n",
       "  'bike_network_category': 'Proposed Bike+ - Non-Arterial'}}"
      ]
     },
     "execution_count": 22,
     "metadata": {},
     "output_type": "execute_result"
    }
   ],
   "source": [
    "data['features'][0]"
   ]
  },
  {
   "cell_type": "code",
   "execution_count": 8,
   "id": "c48949be-6a85-4329-bc79-7a4fb81782b8",
   "metadata": {},
   "outputs": [
    {
     "name": "stderr",
     "output_type": "stream",
     "text": [
      "/Users/abrahamepton/venvs/maps/lib/python3.8/site-packages/urllib3/__init__.py:35: NotOpenSSLWarning: urllib3 v2 only supports OpenSSL 1.1.1+, currently the 'ssl' module is compiled with 'LibreSSL 2.8.3'. See: https://github.com/urllib3/urllib3/issues/3020\n",
      "  warnings.warn(\n"
     ]
    }
   ],
   "source": [
    "from pyhigh import get_elevation"
   ]
  },
  {
   "cell_type": "code",
   "execution_count": 29,
   "id": "de8162b1-13e5-4ce9-9c7a-ba880128d741",
   "metadata": {},
   "outputs": [
    {
     "data": {
      "text/plain": [
       "314.96064"
      ]
     },
     "execution_count": 29,
     "metadata": {},
     "output_type": "execute_result"
    }
   ],
   "source": [
    "get_elevation(lat=47.604327437898, lon=-122.308954277912) * 3.28084"
   ]
  },
  {
   "cell_type": "code",
   "execution_count": 28,
   "id": "2e03e4dd-0746-4513-8570-b9a37cc4b5af",
   "metadata": {},
   "outputs": [
    {
     "data": {
      "text/plain": [
       "321.52232"
      ]
     },
     "execution_count": 28,
     "metadata": {},
     "output_type": "execute_result"
    }
   ],
   "source": [
    "get_elevation(lat=47.6043216339769, lon=-122.307649047488) * 3.28084"
   ]
  },
  {
   "cell_type": "code",
   "execution_count": 27,
   "id": "5e3483ef-2c45-4730-9b13-0e64f62c8457",
   "metadata": {},
   "outputs": [
    {
     "data": {
      "text/plain": [
       "144.35696"
      ]
     },
     "execution_count": 27,
     "metadata": {},
     "output_type": "execute_result"
    }
   ],
   "source": [
    "get_elevation(lat=47.5541164, lon=-122.2896943) * 3.28084"
   ]
  },
  {
   "cell_type": "code",
   "execution_count": 44,
   "id": "0c861c53-da14-4ebb-bef4-d91d40e32dfe",
   "metadata": {},
   "outputs": [],
   "source": [
    "pairs = {}\n",
    "min_elev = 0\n",
    "max_elev = 0\n",
    "\n",
    "for feature in data['features']:\n",
    "    if not feature['geometry']:\n",
    "        continue\n",
    "    idx = 0\n",
    "    while idx < len(feature['geometry']['coordinates']) - 1:\n",
    "        origin = feature['geometry']['coordinates'][idx]\n",
    "        dest = feature['geometry']['coordinates'][idx + 1]\n",
    "        origin_elev = get_elevation(lat=origin[1], lon=origin[0])\n",
    "        dest_elev = get_elevation(lat=dest[1], lon=dest[0])\n",
    "        pair = f\"{origin[0]},{origin[1]} - {dest[0]},{dest[1]}\"\n",
    "        pairs[pair] = abs(dest_elev - origin_elev)\n",
    "        max_elev = max(pairs[pair], max_elev)\n",
    "        min_elev = min(pairs[pair], min_elev)\n",
    "        idx += 1"
   ]
  },
  {
   "cell_type": "code",
   "execution_count": 46,
   "id": "8a044fb2-0aaf-4645-a477-94cb70d5a8bc",
   "metadata": {},
   "outputs": [
    {
     "name": "stdout",
     "output_type": "stream",
     "text": [
      "73.0 0.0\n"
     ]
    }
   ],
   "source": [
    "print(max_elev, min_elev)"
   ]
  },
  {
   "cell_type": "code",
   "execution_count": 29,
   "id": "c9145c8a-ebc0-4130-bd93-c255bb92479b",
   "metadata": {},
   "outputs": [
    {
     "name": "stdout",
     "output_type": "stream",
     "text": [
      "-122.308954277912,47.604327437898 - -122.307649047488,47.6043216339769 2.0\n"
     ]
    }
   ],
   "source": [
    "for p in pairs:\n",
    "    print(p, pairs[p])\n",
    "    break"
   ]
  },
  {
   "cell_type": "code",
   "execution_count": 9,
   "id": "6d4f9ec6-dc0b-4ce5-b687-011662510e31",
   "metadata": {},
   "outputs": [],
   "source": [
    "def get_color(val, max_elev=73.0, min_elev=0.0):\n",
    "    color_scale = [\n",
    "        '#309143',\n",
    "        '#51b364',\n",
    "        '#8ace7e',\n",
    "        '#ffda66',\n",
    "        '#f0bd27',\n",
    "        '#e39802',\n",
    "        '#ff684c',\n",
    "        '#e03531',\n",
    "        '#b60a1c',\n",
    "        '#b60a1c',\n",
    "        '#b60a1c',\n",
    "        '#b60a1c',\n",
    "        '#b60a1c',\n",
    "        '#b60a1c',\n",
    "        '#b60a1c',\n",
    "        '#b60a1c',\n",
    "        '#b60a1c',\n",
    "        '#b60a1c',\n",
    "        '#b60a1c',\n",
    "        '#b60a1c',\n",
    "        '#b60a1c',\n",
    "        '#b60a1c',\n",
    "        '#b60a1c',\n",
    "        '#b60a1c'\n",
    "    ]\n",
    "    max_min_range = max_elev - min_elev\n",
    "    intervals = max_min_range / (len(color_scale) - 1)\n",
    "    return color_scale[int(val/intervals)]"
   ]
  },
  {
   "cell_type": "code",
   "execution_count": 84,
   "id": "6f1938eb-7c9a-455b-8f1a-f2728fb0f27a",
   "metadata": {},
   "outputs": [],
   "source": [
    "output = {\n",
    "    'type': 'FeatureCollection',\n",
    "    'crs': { 'type': 'name', 'properties': {'name': 'EPSG:4326'}},\n",
    "    'features': []\n",
    "}\n",
    "for p in pairs:\n",
    "    color = get_color(pairs[p], max_elev, min_elev)\n",
    "    origin, dest = p.split(' - ')\n",
    "    origin_lon, origin_lat = origin.split(',')\n",
    "    dest_lon, dest_lat = dest.split(',')\n",
    "    output['features'].append({\n",
    "        \"type\": \"Feature\",\n",
    "        \"id\": 1,\n",
    "        \"geometry\": {\n",
    "            \"type\": \"LineString\",\n",
    "            \"coordinates\":[[float(origin_lon), float(origin_lat)], [float(dest_lon), float(dest_lat)]]\n",
    "        },\n",
    "        \"properties\": {'line-color': color}\n",
    "    })"
   ]
  },
  {
   "cell_type": "code",
   "execution_count": 85,
   "id": "00ffd12a-9f02-497c-8f1b-a6f02c7b0383",
   "metadata": {},
   "outputs": [],
   "source": [
    "with open('../public/static/bike_routes_heights.geojson', 'w+') as fh:\n",
    "    fh.write(json.dumps(output))"
   ]
  },
  {
   "cell_type": "code",
   "execution_count": 6,
   "id": "920a5239-81a0-44a8-bfd4-47c5448de725",
   "metadata": {},
   "outputs": [],
   "source": [
    "with open('../public/static/seattle_streets_raw.geojson') as fh:\n",
    "    raw_streets_data = json.loads(fh.read())"
   ]
  },
  {
   "cell_type": "code",
   "execution_count": 7,
   "id": "f6f566be-8765-4933-bfed-9e8efc844106",
   "metadata": {},
   "outputs": [
    {
     "data": {
      "text/plain": [
       "{'type': 'Feature',\n",
       " 'id': 2367059,\n",
       " 'geometry': {'type': 'LineString',\n",
       "  'coordinates': [[-122.322859636095, 47.5298142840705],\n",
       "   [-122.322873008817, 47.5290153917875]]},\n",
       " 'properties': {'OBJECTID': 2367059,\n",
       "  'F_INTR_ID': 17740,\n",
       "  'T_INTR_ID': 17791,\n",
       "  'SND_ID': 33478,\n",
       "  'SND_FEACODE': 5,\n",
       "  'CITYCODE': 1,\n",
       "  'STNAME_ID': 566,\n",
       "  'ST_CODE': 0,\n",
       "  'ARTERIAL_CODE': 1,\n",
       "  'SEGMENT_TYPE': 1,\n",
       "  'AGENCY_CODE': 1,\n",
       "  'ACCESS_CODE': 1,\n",
       "  'DIVIDED_CODE': 1,\n",
       "  'STRUCTURE_TYPE': 1,\n",
       "  'LEGALLOC_CODE': 1,\n",
       "  'VEHICLE_USE_CODE': 1,\n",
       "  'GIS_SEG_LENGTH': 291.426597,\n",
       "  'L_ADRS_FROM': 8200,\n",
       "  'L_ADRS_TO': 8298,\n",
       "  'R_ADRS_FROM': 8201,\n",
       "  'R_ADRS_TO': 8299,\n",
       "  'ORD_PRE_DIR': None,\n",
       "  'ORD_STREET_NAME': '8TH',\n",
       "  'ORD_STREET_TYPE': 'AVE',\n",
       "  'ORD_SUF_DIR': 'S',\n",
       "  'ORD_STNAME_CONCAT': '8TH AVE S',\n",
       "  'L_CITY': 'SEATTLE',\n",
       "  'L_STATE': 'WA',\n",
       "  'L_ZIP': '98108',\n",
       "  'R_CITY': 'SEATTLE',\n",
       "  'R_STATE': 'WA',\n",
       "  'R_ZIP': '98108',\n",
       "  'SNDSEG_UPDATE': 'Sun, 22 Apr 2007 00:00:00 GMT',\n",
       "  'COMPKEY': 8460,\n",
       "  'COMPTYPE': 68,\n",
       "  'UNITID': '04805',\n",
       "  'UNITID2': '0820'}}"
      ]
     },
     "execution_count": 7,
     "metadata": {},
     "output_type": "execute_result"
    }
   ],
   "source": [
    "raw_streets_data['features'][0]"
   ]
  },
  {
   "cell_type": "code",
   "execution_count": 17,
   "id": "17ec9abf-9784-4d77-bf9a-97095ca4ead5",
   "metadata": {},
   "outputs": [
    {
     "name": "stdout",
     "output_type": "stream",
     "text": [
      "Found 1,000 pairs\n",
      "Found 2,000 pairs\n",
      "Found 3,000 pairs\n",
      "Found 4,000 pairs\n",
      "Found 5,000 pairs\n",
      "Found 6,000 pairs\n",
      "Found 7,000 pairs\n",
      "Found 8,000 pairs\n",
      "Found 9,000 pairs\n",
      "Found 10,000 pairs\n",
      "Found 11,000 pairs\n",
      "Found 12,000 pairs\n",
      "Found 13,000 pairs\n",
      "Found 14,000 pairs\n",
      "Found 15,000 pairs\n",
      "Found 16,000 pairs\n",
      "Found 17,000 pairs\n",
      "Found 18,000 pairs\n",
      "Found 19,000 pairs\n",
      "Found 20,000 pairs\n",
      "Found 21,000 pairs\n",
      "Found 22,000 pairs\n",
      "Found 23,000 pairs\n",
      "Found 24,000 pairs\n",
      "Found 25,000 pairs\n",
      "Found 26,000 pairs\n",
      "Found 27,000 pairs\n",
      "Found 28,000 pairs\n",
      "Found 29,000 pairs\n",
      "Found 30,000 pairs\n",
      "Found 31,000 pairs\n",
      "Found 32,000 pairs\n",
      "Found 33,000 pairs\n",
      "Found 34,000 pairs\n",
      "Found 35,000 pairs\n",
      "Found 36,000 pairs\n",
      "Found 37,000 pairs\n",
      "Found 38,000 pairs\n",
      "Found 39,000 pairs\n",
      "Found 40,000 pairs\n",
      "Found 41,000 pairs\n",
      "Found 42,000 pairs\n",
      "Found 43,000 pairs\n",
      "Found 44,000 pairs\n",
      "Found 45,000 pairs\n",
      "Found 46,000 pairs\n",
      "Found 47,000 pairs\n",
      "Found 48,000 pairs\n",
      "Found 49,000 pairs\n",
      "Found 50,000 pairs\n",
      "Found 51,000 pairs\n",
      "Found 52,000 pairs\n",
      "Found 53,000 pairs\n",
      "Found 54,000 pairs\n",
      "Found 55,000 pairs\n",
      "Found 56,000 pairs\n",
      "Found 57,000 pairs\n",
      "Found 58,000 pairs\n",
      "Found 59,000 pairs\n",
      "Found 60,000 pairs\n",
      "Found 61,000 pairs\n",
      "Found 62,000 pairs\n",
      "Found 63,000 pairs\n",
      "Found 64,000 pairs\n",
      "Found 65,000 pairs\n",
      "Found 66,000 pairs\n",
      "Found 67,000 pairs\n",
      "Found 68,000 pairs\n",
      "Found 69,000 pairs\n",
      "Found 70,000 pairs\n",
      "Found 71,000 pairs\n",
      "Found 72,000 pairs\n",
      "Found 73,000 pairs\n",
      "Found 74,000 pairs\n",
      "Found 75,000 pairs\n",
      "Found 76,000 pairs\n",
      "Found 77,000 pairs\n",
      "Found 78,000 pairs\n",
      "Found 79,000 pairs\n",
      "Found 80,000 pairs\n",
      "Found 81,000 pairs\n",
      "Found 82,000 pairs\n",
      "Found 83,000 pairs\n",
      "Found 84,000 pairs\n",
      "Found 85,000 pairs\n",
      "Found 86,000 pairs\n",
      "Found 87,000 pairs\n",
      "Found 88,000 pairs\n",
      "Found 89,000 pairs\n",
      "Found 90,000 pairs\n",
      "Found 91,000 pairs\n",
      "Found 92,000 pairs\n",
      "Found 93,000 pairs\n",
      "Found 94,000 pairs\n",
      "Found 95,000 pairs\n",
      "Found 96,000 pairs\n",
      "Found 97,000 pairs\n",
      "Found 98,000 pairs\n",
      "Found 99,000 pairs\n",
      "Found 100,000 pairs\n",
      "Found 101,000 pairs\n",
      "Found 102,000 pairs\n",
      "Found 103,000 pairs\n",
      "Found 104,000 pairs\n",
      "Found 105,000 pairs\n",
      "Found 106,000 pairs\n",
      "Found 107,000 pairs\n",
      "Found 108,000 pairs\n",
      "Found 109,000 pairs\n",
      "Found 110,000 pairs\n",
      "Found 111,000 pairs\n",
      "Found 112,000 pairs\n",
      "Found 113,000 pairs\n",
      "Found 114,000 pairs\n",
      "Found 115,000 pairs\n",
      "Found 116,000 pairs\n",
      "Found 117,000 pairs\n",
      "Found 118,000 pairs\n",
      "Found 119,000 pairs\n",
      "Found 120,000 pairs\n",
      "Found 121,000 pairs\n",
      "Found 122,000 pairs\n",
      "Found 123,000 pairs\n",
      "Found 124,000 pairs\n",
      "Found 125,000 pairs\n",
      "Found 126,000 pairs\n",
      "Found 127,000 pairs\n",
      "Found 128,000 pairs\n",
      "Found 129,000 pairs\n",
      "Found 130,000 pairs\n",
      "Found 131,000 pairs\n",
      "Found 132,000 pairs\n",
      "Found 133,000 pairs\n",
      "Found 134,000 pairs\n",
      "Found 135,000 pairs\n",
      "Found 136,000 pairs\n",
      "Found 137,000 pairs\n",
      "Found 138,000 pairs\n",
      "Found 139,000 pairs\n",
      "Found 140,000 pairs\n",
      "Found 141,000 pairs\n",
      "Found 142,000 pairs\n",
      "Found 143,000 pairs\n",
      "Found 144,000 pairs\n",
      "Found 145,000 pairs\n",
      "Found 146,000 pairs\n",
      "Found 147,000 pairs\n",
      "Found 148,000 pairs\n",
      "Found 149,000 pairs\n",
      "Found 150,000 pairs\n",
      "Found 151,000 pairs\n",
      "Found 152,000 pairs\n",
      "Found 153,000 pairs\n",
      "Found 154,000 pairs\n",
      "Found 155,000 pairs\n",
      "Found 156,000 pairs\n",
      "Found 157,000 pairs\n",
      "Found 158,000 pairs\n",
      "Found 159,000 pairs\n",
      "Found 160,000 pairs\n",
      "Found 161,000 pairs\n",
      "Found 162,000 pairs\n",
      "Found 163,000 pairs\n",
      "Found 164,000 pairs\n",
      "Found 165,000 pairs\n",
      "Found 166,000 pairs\n",
      "Found 167,000 pairs\n",
      "Found 168,000 pairs\n",
      "Found 169,000 pairs\n",
      "Found 170,000 pairs\n",
      "Found 171,000 pairs\n",
      "Found 172,000 pairs\n",
      "Found 173,000 pairs\n",
      "Found 174,000 pairs\n",
      "Found 175,000 pairs\n",
      "Found 176,000 pairs\n",
      "Found 177,000 pairs\n",
      "Found 178,000 pairs\n",
      "Found 179,000 pairs\n",
      "Found 180,000 pairs\n",
      "Found 181,000 pairs\n",
      "Found 182,000 pairs\n",
      "Found 183,000 pairs\n",
      "Found 184,000 pairs\n",
      "Found 185,000 pairs\n",
      "Found 186,000 pairs\n",
      "Found 187,000 pairs\n",
      "Found 188,000 pairs\n",
      "Found 189,000 pairs\n",
      "Found 190,000 pairs\n",
      "Found 191,000 pairs\n",
      "Found 192,000 pairs\n",
      "Found 193,000 pairs\n",
      "Found 194,000 pairs\n",
      "Found 195,000 pairs\n",
      "Found 196,000 pairs\n",
      "Found 197,000 pairs\n",
      "Found 198,000 pairs\n",
      "Found 199,000 pairs\n",
      "Found 200,000 pairs\n",
      "Found 201,000 pairs\n",
      "Found 202,000 pairs\n",
      "Found 203,000 pairs\n",
      "Found 204,000 pairs\n",
      "Found 205,000 pairs\n",
      "Found 206,000 pairs\n",
      "Found 207,000 pairs\n",
      "Found 208,000 pairs\n",
      "Found 209,000 pairs\n",
      "Found 210,000 pairs\n",
      "Found 211,000 pairs\n",
      "Found 212,000 pairs\n",
      "Found 213,000 pairs\n",
      "Found 214,000 pairs\n",
      "Found 215,000 pairs\n",
      "Found 216,000 pairs\n",
      "Found 217,000 pairs\n",
      "Found 218,000 pairs\n",
      "Found 219,000 pairs\n",
      "Found 220,000 pairs\n",
      "Found 221,000 pairs\n",
      "Found 222,000 pairs\n",
      "Found 223,000 pairs\n",
      "Found 224,000 pairs\n",
      "Found 225,000 pairs\n",
      "Found 226,000 pairs\n",
      "Found 227,000 pairs\n",
      "Found 228,000 pairs\n",
      "Found 229,000 pairs\n",
      "Found 230,000 pairs\n",
      "Found 231,000 pairs\n",
      "Found 232,000 pairs\n",
      "Found 233,000 pairs\n",
      "Found 234,000 pairs\n",
      "Found 235,000 pairs\n",
      "Found 236,000 pairs\n",
      "Found 237,000 pairs\n",
      "Found 238,000 pairs\n",
      "Found 239,000 pairs\n",
      "Found 240,000 pairs\n",
      "Found 241,000 pairs\n",
      "Found 242,000 pairs\n",
      "Found 243,000 pairs\n",
      "Found 244,000 pairs\n",
      "Found 245,000 pairs\n"
     ]
    }
   ],
   "source": [
    "street_pairs = {}\n",
    "min_elev = 0\n",
    "max_elev = 0\n",
    "\n",
    "for feature in raw_streets_data['features']:\n",
    "    if not feature['geometry']:\n",
    "        continue\n",
    "    idx = 0\n",
    "    while idx < len(feature['geometry']['coordinates']) - 1:\n",
    "        origin = feature['geometry']['coordinates'][idx]\n",
    "        dest = feature['geometry']['coordinates'][idx + 1]\n",
    "        origin_elev = get_elevation(lat=origin[1], lon=origin[0])\n",
    "        dest_elev = get_elevation(lat=dest[1], lon=dest[0])\n",
    "        pair = f\"{origin[0]},{origin[1]} - {dest[0]},{dest[1]}\"\n",
    "        street_pairs[pair] = abs(dest_elev - origin_elev)\n",
    "        max_elev = max(street_pairs[pair], max_elev)\n",
    "        min_elev = min(street_pairs[pair], min_elev)\n",
    "        idx += 1\n",
    "        if len(street_pairs) % 1000 == 0:\n",
    "            print(f'Found {len(street_pairs):,} pairs')"
   ]
  },
  {
   "cell_type": "code",
   "execution_count": 18,
   "id": "2bdea9c7-49c1-47cd-9fa4-423391fcaa8e",
   "metadata": {},
   "outputs": [],
   "source": [
    "output = {\n",
    "    'type': 'FeatureCollection',\n",
    "    'crs': { 'type': 'name', 'properties': {'name': 'EPSG:4326'}},\n",
    "    'features': []\n",
    "}\n",
    "for p in street_pairs:\n",
    "    color = get_color(street_pairs[p], max_elev, min_elev)\n",
    "    origin, dest = p.split(' - ')\n",
    "    origin_lon, origin_lat = origin.split(',')\n",
    "    dest_lon, dest_lat = dest.split(',')\n",
    "    output['features'].append({\n",
    "        \"type\": \"Feature\",\n",
    "        \"id\": 1,\n",
    "        \"geometry\": {\n",
    "            \"type\": \"LineString\",\n",
    "            \"coordinates\":[[float(origin_lon), float(origin_lat)], [float(dest_lon), float(dest_lat)]]\n",
    "        },\n",
    "        \"properties\": {'line-color': color}\n",
    "    })"
   ]
  },
  {
   "cell_type": "code",
   "execution_count": 19,
   "id": "5fb244bc-c6d0-47cb-8990-01d328de5fae",
   "metadata": {},
   "outputs": [],
   "source": [
    "with open('../public/static/streets_heights.geojson', 'w+') as fh:\n",
    "    fh.write(json.dumps(output))"
   ]
  },
  {
   "cell_type": "code",
   "execution_count": null,
   "id": "ae8d2505-e1b7-4307-8406-c88b5278d91c",
   "metadata": {},
   "outputs": [],
   "source": []
  }
 ],
 "metadata": {
  "kernelspec": {
   "display_name": "Python 3 (ipykernel)",
   "language": "python",
   "name": "python3"
  },
  "language_info": {
   "codemirror_mode": {
    "name": "ipython",
    "version": 3
   },
   "file_extension": ".py",
   "mimetype": "text/x-python",
   "name": "python",
   "nbconvert_exporter": "python",
   "pygments_lexer": "ipython3",
   "version": "3.8.2"
  }
 },
 "nbformat": 4,
 "nbformat_minor": 5
}
